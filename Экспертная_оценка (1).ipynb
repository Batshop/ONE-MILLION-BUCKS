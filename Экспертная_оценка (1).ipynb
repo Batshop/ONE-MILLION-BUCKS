{
  "cells": [
    {
      "cell_type": "code",
      "source": [
        "user_preferences = {\n",
        "    \"Budget\": int(input()),\n",
        "    \"Type\": input(),\n",
        "    \"Days\": int(input()),\n",
        "    \"Location\": input()\n",
        "}"
      ],
      "metadata": {
        "colab": {
          "base_uri": "https://localhost:8080/"
        },
        "id": "Ntp9Mk1eN0Rr",
        "outputId": "dd65ce54-191a-486f-db53-190afb5f267d"
      },
      "execution_count": null,
      "outputs": [
        {
          "name": "stdout",
          "output_type": "stream",
          "text": [
            "1000\n",
            "Пляжный\n",
            "11\n",
            "Азия\n"
          ]
        }
      ]
    },
    {
      "cell_type": "code",
      "execution_count": null,
      "metadata": {
        "id": "zwFnJsE6vjf8"
      },
      "outputs": [],
      "source": [
        "import pandas as pd\n",
        "\n",
        "# Создать таблицу мест отдыха\n",
        "vacation_spots = pd.DataFrame({\n",
        "    \"Name\": [\"Париж\", \"Лондон\", \"Рим\", \"Барселона\", \"Ницца\", \"Мальорка\", \"Альпы\", \"Пиренеи\", \"Доломиты\", \"Токио\", \"Пекин\", \"Сеул\", \"Пхукет\", \"Бали\", \"Самуи\", \"Гималаи\", \"Тибет\", \"Непал\"],\n",
        "    \"Type\": [\"Культурный\", \"Культурный\", \"Культурный\", \"Пляжный\", \"Пляжный\", \"Пляжный\", \"Активный\", \"Активный\", \"Активный\", \"Культурный\", \"Культурный\", \"Культурный\", \"Пляжный\", \"Пляжный\", \"Пляжный\", \"Активный\", \"Активный\", \"Активный\"],\n",
        "    \"Location\": [\"Европа\", \"Европа\", \"Европа\", \"Европа\", \"Европа\", \"Европа\", \"Европа\", \"Европа\", \"Европа\", \"Азия\", \"Азия\", \"Азия\", \"Азия\", \"Азия\", \"Азия\", \"Азия\", \"Азия\", \"Азия\"],\n",
        "    \"Budget\": [1000, 800, 900, 700, 600, 500, 800, 700, 600, 1200, 1000, 900, 800, 700, 600, 1000, 900, 800]\n",
        "})\n",
        "\n",
        "\n",
        "# Выбрать места отдыха, соответствующие предпочтениям пользователя\n",
        "recommended_vacation_spots = vacation_spots[(vacation_spots[\"Budget\"] <= user_preferences[\"Budget\"]) &\n",
        "                                           (vacation_spots[\"Type\"] == user_preferences[\"Type\"]) &\n",
        "                                           (vacation_spots[\"Location\"] == user_preferences[\"Location\"])]\n",
        "\n",
        "\n",
        "\n"
      ]
    },
    {
      "cell_type": "code",
      "source": [
        "# Словарь ссылок на фотографии стран\n",
        "country_photos = {\n",
        "    \"Франция\": \"https://upload.wikimedia.org/wikipedia/commons/thumb/b/b8/Eiffel_Tower_at_night.jpg/1200px-Eiffel_Tower_at_night.jpg\",\n",
        "    \"Великобритания\": \"https://upload.wikimedia.org/wikipedia/commons/thumb/a/ae/Big_Ben_at_night.jpg/1200px-Big_Ben_at_night.jpg\",\n",
        "    \"Италия\": \"https://upload.wikimedia.org/wikipedia/commons/thumb/0/03/Colosseum_in_Rome.jpg/1200px-Colosseum_in_Rome.jpg\",\n",
        "    \"Испания\": \"https://upload.wikimedia.org/wikipedia/commons/thumb/9/9a/Barcelona_Cathedral_-_fa%C3%A7ade_principal.jpg/1200px-Barcelona_Cathedral_-_fa%C3%A7ade_principal.jpg\",\n",
        "    \"Таиланд\": \"https://upload.wikimedia.org/wikipedia/commons/thumb/1/19/Maya_Bay_and_Phi_Phi_Leh%2C_Krabi_Province%2C_Thailand_-_panoramio.jpg/1200px-Maya_Bay_and_Phi_Phi_Leh%2C_Krabi_Province%2C_Thailand_-_panoramio.jpg\",\n",
        "    \"Индонезия\": \"https://upload.wikimedia.org/wikipedia/commons/thumb/7/75/Pura_Tanah_Lot_-_main_temple_at_sunset%2C_Bali%2C_Indonesia_-_panoramio.jpg/1200px-Pura_Tanah_Lot_-_main_temple_at_sunset%2C_Bali%2C_Indonesia_-_panoramio.jpg\",\n",
        "    \"Япония\": \"https://upload.wikimedia.org/wikipedia/commons/thumb/c/c0/Tokyo_at_night_from_Tokyo_Skytree.jpg/1200px-Tokyo_at_night_from_Tokyo_Skytree.jpg\",\n",
        "    \"Китай\": \"https://upload.wikimedia.org/wikipedia/commons/thumb/a/a4/Beijing_Forbidden_City_panorama.jpg/1200px-Beijing_Forbidden_City_panorama.jpg\",\n",
        "    \"Южная Корея\": \"https://upload.wikimedia.org/wikipedia/commons/thumb/6/6d/Seoul_at_night_from_N_Seoul_Tower.jpg/1200px-Seoul_at_night_from_N_Seoul_Tower.jpg\",\n",
        "    \"Самуи\": \"https://avatars.dzeninfra.ru/get-zen_doc/3507111/pub_61f9eec6a30b2f4b363d03c4_61f9f1a03412f559094ea46c/scale_1200\",\n",
        "    \"Пиренеи\": \"https://avatars.dzeninfra.ru/get-zen_doc/3507111/pub_61f9eec6a30b2f4b363d03c4_61f9f1a03412f559094ea46c/scale_1200\",\n",
        "    \"Бали\": \"https://img.freepik.com/premium-photo/a-girl-walks-along-a-black-sand-beach-in-bali_443598-737.jpg\",\n",
        "    \"Пхукет\": \"https://media.istockphoto.com/id/1396081944/ru/%D1%84%D0%BE%D1%82%D0%BE/%D1%82%D0%B0%D0%B9%D1%81%D0%BA%D0%B0%D1%8F-%D1%82%D1%80%D0%B0%D0%B4%D0%B8%D1%86%D0%B8%D0%BE%D0%BD%D0%BD%D0%B0%D1%8F-%D0%B4%D0%B5%D1%80%D0%B5%D0%B2%D1%8F%D0%BD%D0%BD%D0%B0%D1%8F-%D0%B4%D0%BB%D0%B8%D0%BD%D0%BD%D0%BE%D1%85%D0%B2%D0%BE%D1%81%D1%82%D0%B0%D1%8F-%D0%BB%D0%BE%D0%B4%D0%BA%D0%B0-%D0%B8-%D0%BF%D1%80%D0%B5%D0%BA%D1%80%D0%B0%D1%81%D0%BD%D1%8B%D0%B9-%D0%BF%D0%BB%D1%8F%D0%B6-%D0%B2-%D0%BF%D1%80%D0%BE%D0%B2%D0%B8%D0%BD%D1%86%D0%B8%D0%B8-%D0%BF%D1%85%D1%83%D0%BA%D0%B5%D1%82.jpg?s=612x612&w=0&k=20&c=3csj_h8x3njQnqnUxCIp8en0WnqFdp7nZK-5cqJ0_b4=\",\n",
        "    \"Альпы\": \"https://www.google.com/url?sa=i&url=https%3A%2F%2Fanamel.com.ua%2Fblog%2Fkak-vibrat-zimnee-nijnee-belie.html&psig=AOvVaw3P56AbAtM-En15xkv9QvcV&ust=1708423422639000&source=images&cd=vfe&opi=89978449&ved=0CBIQjRxqFwoTCICIzKuTt4QDFQAAAAAdAAAAABA-\",\n",
        "    \"Непал\": \"https://upload.wikimedia.org/wikipedia/commons/thumb/f/f6/Mount_Everest_from_Kala_Pattar%2C_Everest_Trek%2C_Nepal_-_panoramio.jpg/1200px-Mount_Everest_from_Kala_Pattar%2C_Everest_Trek%2C_Nepal_-_panoramio.jpg\",\n",
        "    \"Доломиты\": \"https://www.visittrentino.info/assets-database/37000-37999/37700-37799/1655008/image-thumb__1655008__contentgallery-wide_auto_185cc40fd612b99aa8694dbc2068b7be/san-martino-di-castrozza---val-venegia---malga-venegiota_37785.jpg\"\n",
        "}\n",
        "\n",
        "# Добавить ссылки на фотографии в таблицу мест отдыха\n",
        "vacation_spots[\"Photo\"] = vacation_spots[\"Name\"].map(country_photos)\n",
        "\n",
        "# Выбрать места отдыха, соответствующие предпочтениям и добавить ссылки на фотографии\n",
        "recommended_vacation_spots = vacation_spots[(vacation_spots[\"Budget\"] <= user_preferences[\"Budget\"]) &\n",
        "                                                  (vacation_spots[\"Type\"] == user_preferences[\"Type\"]) &\n",
        "                                                  (vacation_spots[\"Location\"] == user_preferences[\"Location\"])]\n",
        "\n",
        "# Вывести список рекомендованных мест отдыха с фотографиями\n",
        "for spot in recommended_vacation_spots[\"Name\"]:\n",
        "    print(f\"{spot} - {country_photos[spot]}\")\n"
      ],
      "metadata": {
        "id": "2pQ6-JIiveFY",
        "outputId": "fd84f625-d6f4-4a43-df32-51e7a6dfd58a",
        "colab": {
          "base_uri": "https://localhost:8080/"
        }
      },
      "execution_count": null,
      "outputs": [
        {
          "output_type": "stream",
          "name": "stdout",
          "text": [
            "Пхукет - https://media.istockphoto.com/id/1396081944/ru/%D1%84%D0%BE%D1%82%D0%BE/%D1%82%D0%B0%D0%B9%D1%81%D0%BA%D0%B0%D1%8F-%D1%82%D1%80%D0%B0%D0%B4%D0%B8%D1%86%D0%B8%D0%BE%D0%BD%D0%BD%D0%B0%D1%8F-%D0%B4%D0%B5%D1%80%D0%B5%D0%B2%D1%8F%D0%BD%D0%BD%D0%B0%D1%8F-%D0%B4%D0%BB%D0%B8%D0%BD%D0%BD%D0%BE%D1%85%D0%B2%D0%BE%D1%81%D1%82%D0%B0%D1%8F-%D0%BB%D0%BE%D0%B4%D0%BA%D0%B0-%D0%B8-%D0%BF%D1%80%D0%B5%D0%BA%D1%80%D0%B0%D1%81%D0%BD%D1%8B%D0%B9-%D0%BF%D0%BB%D1%8F%D0%B6-%D0%B2-%D0%BF%D1%80%D0%BE%D0%B2%D0%B8%D0%BD%D1%86%D0%B8%D0%B8-%D0%BF%D1%85%D1%83%D0%BA%D0%B5%D1%82.jpg?s=612x612&w=0&k=20&c=3csj_h8x3njQnqnUxCIp8en0WnqFdp7nZK-5cqJ0_b4=\n",
            "Бали - https://img.freepik.com/premium-photo/a-girl-walks-along-a-black-sand-beach-in-bali_443598-737.jpg\n",
            "Самуи - https://avatars.dzeninfra.ru/get-zen_doc/3507111/pub_61f9eec6a30b2f4b363d03c4_61f9f1a03412f559094ea46c/scale_1200\n"
          ]
        }
      ]
    },
    {
      "cell_type": "markdown",
      "source": [],
      "metadata": {
        "id": "Rtr73tloWc0R"
      }
    },
    {
      "cell_type": "markdown",
      "metadata": {
        "id": "5fCEDCU_qrC0"
      },
      "source": [
        "<div class=\"markdown-google-sans\">\n",
        "  <h2>Что такое Colab?</h2>\n",
        "</div>\n",
        "\n",
        "Colaboratory, или просто Colab, позволяет писать и выполнять код Python в браузере. При этом:\n",
        "- не требуется никакой настройки;\n",
        "- бесплатный доступ к графическим процессорам;\n",
        "- предоставлять доступ к документам другим людям очень просто.\n",
        "\n",
        "Это отличное решение для <strong>студентов</strong>, <strong>специалистов по обработке данных</strong> и <strong>исследователей в области искусственного интеллекта</strong>. Чтобы узнать больше, посмотрите <a href=\"https://www.youtube.com/watch?v=inN8seMm7UI\">ознакомительное видео</a> или начните работу с инструментом ниже."
      ]
    }
  ],
  "metadata": {
    "colab": {
      "provenance": []
    },
    "kernelspec": {
      "display_name": "Python 3",
      "name": "python3"
    }
  },
  "nbformat": 4,
  "nbformat_minor": 0
}